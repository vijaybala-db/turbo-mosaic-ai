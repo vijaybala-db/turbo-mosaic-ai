{
 "cells": [
  {
   "cell_type": "markdown",
   "metadata": {
    "application/vnd.databricks.v1+cell": {
     "cellMetadata": {},
     "inputWidgets": {},
     "nuid": "ee353e42-ff58-4955-9608-12865bd0950e",
     "showTitle": false,
     "title": ""
    }
   },
   "source": [
    "# Default notebook\n",
    "\n",
    "This default notebook is executed using Databricks Workflows as defined in resources/turbo_rag_job.yml."
   ]
  },
  {
   "cell_type": "code",
   "execution_count": 2,
   "metadata": {},
   "outputs": [],
   "source": [
    "%load_ext autoreload\n",
    "%autoreload 2"
   ]
  },
  {
   "cell_type": "code",
   "execution_count": null,
   "metadata": {
    "application/vnd.databricks.v1+cell": {
     "cellMetadata": {
      "byteLimit": 2048000,
      "rowLimit": 10000
     },
     "inputWidgets": {},
     "nuid": "6bca260b-13d1-448f-8082-30b60a85c9ae",
     "showTitle": false,
     "title": ""
    }
   },
   "outputs": [],
   "source": [
    "spark.range(10)"
   ]
  },
  {
   "cell_type": "markdown",
   "metadata": {},
   "source": [
    "### Download data\n",
    "\n",
    "Title: Introduction to Computer Science [CS50x] [Harvard] [2018] (public domain)\n",
    "\n",
    "Source: https://archive.org/details/academictorrents_52da574b6412862e199abeaea63e51bf8cea2140\n"
   ]
  },
  {
   "cell_type": "code",
   "execution_count": 2,
   "metadata": {},
   "outputs": [
    {
     "name": "stdout",
     "output_type": "stream",
     "text": [
      "--2024-06-24 15:13:44--  https://archive.org/compress/academictorrents_52da574b6412862e199abeaea63e51bf8cea2140/formats=DJVUTXT&file=/academictorrents_52da574b6412862e199abeaea63e51bf8cea2140.zip\n",
      "Resolving archive.org (archive.org)... 207.241.224.2\n",
      "Connecting to archive.org (archive.org)|207.241.224.2|:443... connected.\n",
      "HTTP request sent, awaiting response... 302 Found\n",
      "Location: https://ia803105.us.archive.org/zip_dir.php?path=/18/items/academictorrents_52da574b6412862e199abeaea63e51bf8cea2140.zip&formats=DJVUTXT [following]\n",
      "--2024-06-24 15:13:44--  https://ia803105.us.archive.org/zip_dir.php?path=/18/items/academictorrents_52da574b6412862e199abeaea63e51bf8cea2140.zip&formats=DJVUTXT\n",
      "Resolving ia803105.us.archive.org (ia803105.us.archive.org)... 207.241.232.155\n",
      "Connecting to ia803105.us.archive.org (ia803105.us.archive.org)|207.241.232.155|:443... connected.\n",
      "HTTP request sent, awaiting response... 200 OK\n",
      "Length: 122429 (120K) [application/zip]\n",
      "Saving to: ‘archive.zip’\n",
      "\n",
      "archive.zip         100%[===================>] 119.56K  --.-KB/s    in 0.07s   \n",
      "\n",
      "2024-06-24 15:13:45 (1.59 MB/s) - ‘archive.zip’ saved [122429/122429]\n",
      "\n"
     ]
    }
   ],
   "source": [
    "!wget -O archive.zip \"https://archive.org/compress/academictorrents_52da574b6412862e199abeaea63e51bf8cea2140/formats=DJVUTXT&file=/academictorrents_52da574b6412862e199abeaea63e51bf8cea2140.zip\""
   ]
  },
  {
   "cell_type": "code",
   "execution_count": 4,
   "metadata": {},
   "outputs": [
    {
     "name": "stdout",
     "output_type": "stream",
     "text": [
      "Archive:  archive.zip\n",
      " extracting: data/39-lecture11_djvu.txt  \n",
      " extracting: data/16-lecture4_djvu.txt  \n",
      " extracting: data/29-lecture8_djvu.txt  \n",
      " extracting: data/43-computer_vision_djvu.txt  \n",
      " extracting: data/43-microsofts_makecode_microbit_djvu.txt  \n",
      " extracting: data/20-lecture5_djvu.txt  \n",
      " extracting: data/35-lecture10_djvu.txt  \n",
      " extracting: data/24-lecture6_djvu.txt  \n",
      " extracting: data/27-lecture7_djvu.txt  \n",
      " extracting: data/43-google_apps_djvu.txt  \n",
      " extracting: data/12-lecture3_djvu.txt  \n",
      " extracting: data/04-lecture1_djvu.txt  \n",
      " extracting: data/43-3d_ar_cultural_heritage_djvu.txt  \n",
      " extracting: data/01-lecture0_djvu.txt  \n",
      " extracting: data/43-java_djvu.txt   \n",
      " extracting: data/43-collaborative_coding_djvu.txt  \n",
      " extracting: data/31-lecture9_djvu.txt  \n",
      " extracting: data/43-lecture12_djvu.txt  \n",
      " extracting: data/08-lecture2_djvu.txt  \n"
     ]
    }
   ],
   "source": [
    "!unzip archive.zip -d data"
   ]
  },
  {
   "cell_type": "code",
   "execution_count": null,
   "metadata": {},
   "outputs": [],
   "source": []
  }
 ],
 "metadata": {
  "application/vnd.databricks.v1+notebook": {
   "dashboards": [],
   "language": "python",
   "notebookMetadata": {
    "pythonIndentUnit": 2
   },
   "notebookName": "notebook",
   "widgets": {}
  },
  "kernelspec": {
   "display_name": "Python 3",
   "language": "python",
   "name": "python3"
  },
  "language_info": {
   "codemirror_mode": {
    "name": "ipython",
    "version": 3
   },
   "file_extension": ".py",
   "mimetype": "text/x-python",
   "name": "python",
   "nbconvert_exporter": "python",
   "pygments_lexer": "ipython3",
   "version": "3.11.5"
  }
 },
 "nbformat": 4,
 "nbformat_minor": 0
}
